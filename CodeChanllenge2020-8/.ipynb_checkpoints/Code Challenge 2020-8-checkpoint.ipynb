{
 "cells": [
  {
   "cell_type": "markdown",
   "metadata": {},
   "source": [
    "# 1. Import library"
   ]
  },
  {
   "cell_type": "code",
   "execution_count": 2,
   "metadata": {},
   "outputs": [],
   "source": [
    "import json\n",
    "import urllib.request\n",
    "import pandas as pd\n",
    "import numpy as np\n",
    "import os,sys"
   ]
  },
  {
   "cell_type": "markdown",
   "metadata": {},
   "source": [
    "# 2. Write function"
   ]
  },
  {
   "cell_type": "markdown",
   "metadata": {},
   "source": [
    "# 3. Prepare data"
   ]
  },
  {
   "cell_type": "code",
   "execution_count": 3,
   "metadata": {},
   "outputs": [],
   "source": [
    "with urllib.request.urlopen('https://gist.githubusercontent.com/first087/ac91f67c2022093a2e493295db9a385f/raw/266d21e3584b5b6e628e7eb621dfdfa41c6d54bc/input_round_8.json') as url:\n",
    "    response = json.loads(url.read().decode())"
   ]
  },
  {
   "cell_type": "code",
   "execution_count": 4,
   "metadata": {},
   "outputs": [],
   "source": [
    "data = json.loads(json.dumps(response).replace(\"'\",'\"'))"
   ]
  },
  {
   "cell_type": "code",
   "execution_count": 5,
   "metadata": {},
   "outputs": [],
   "source": [
    "df = pd.DataFrame(data)"
   ]
  },
  {
   "cell_type": "code",
   "execution_count": 6,
   "metadata": {},
   "outputs": [
    {
     "data": {
      "text/plain": [
       "(100, 5)"
      ]
     },
     "execution_count": 6,
     "metadata": {},
     "output_type": "execute_result"
    }
   ],
   "source": [
    "df.shape"
   ]
  },
  {
   "cell_type": "code",
   "execution_count": 484,
   "metadata": {},
   "outputs": [
    {
     "data": {
      "text/html": [
       "<div>\n",
       "<style scoped>\n",
       "    .dataframe tbody tr th:only-of-type {\n",
       "        vertical-align: middle;\n",
       "    }\n",
       "\n",
       "    .dataframe tbody tr th {\n",
       "        vertical-align: top;\n",
       "    }\n",
       "\n",
       "    .dataframe thead th {\n",
       "        text-align: right;\n",
       "    }\n",
       "</style>\n",
       "<table border=\"1\" class=\"dataframe\">\n",
       "  <thead>\n",
       "    <tr style=\"text-align: right;\">\n",
       "      <th></th>\n",
       "      <th>id</th>\n",
       "      <th>age</th>\n",
       "      <th>school</th>\n",
       "      <th>name</th>\n",
       "      <th>email</th>\n",
       "    </tr>\n",
       "  </thead>\n",
       "  <tbody>\n",
       "    <tr>\n",
       "      <th>0</th>\n",
       "      <td>0</td>\n",
       "      <td>21</td>\n",
       "      <td>K</td>\n",
       "      <td>{'first': 'Serena', 'last': 'Holman'}</td>\n",
       "      <td>serena.holman@undefined.net</td>\n",
       "    </tr>\n",
       "    <tr>\n",
       "      <th>1</th>\n",
       "      <td>1</td>\n",
       "      <td>32</td>\n",
       "      <td>D</td>\n",
       "      <td>{'first': 'Freida', 'last': 'Herman'}</td>\n",
       "      <td>freida.herman@undefined.us</td>\n",
       "    </tr>\n",
       "    <tr>\n",
       "      <th>2</th>\n",
       "      <td>2</td>\n",
       "      <td>28</td>\n",
       "      <td>K</td>\n",
       "      <td>{'first': 'Valarie', 'last': 'Talley'}</td>\n",
       "      <td>valarie.talley@undefined.biz</td>\n",
       "    </tr>\n",
       "    <tr>\n",
       "      <th>3</th>\n",
       "      <td>3</td>\n",
       "      <td>18</td>\n",
       "      <td>B</td>\n",
       "      <td>{'first': 'Doyle', 'last': 'Holcomb'}</td>\n",
       "      <td>doyle.holcomb@undefined.tv</td>\n",
       "    </tr>\n",
       "    <tr>\n",
       "      <th>4</th>\n",
       "      <td>4</td>\n",
       "      <td>31</td>\n",
       "      <td>I</td>\n",
       "      <td>{'first': 'Regina', 'last': 'Boyer'}</td>\n",
       "      <td>regina.boyer@undefined.biz</td>\n",
       "    </tr>\n",
       "  </tbody>\n",
       "</table>\n",
       "</div>"
      ],
      "text/plain": [
       "   id  age school                                    name  \\\n",
       "0   0   21      K   {'first': 'Serena', 'last': 'Holman'}   \n",
       "1   1   32      D   {'first': 'Freida', 'last': 'Herman'}   \n",
       "2   2   28      K  {'first': 'Valarie', 'last': 'Talley'}   \n",
       "3   3   18      B   {'first': 'Doyle', 'last': 'Holcomb'}   \n",
       "4   4   31      I    {'first': 'Regina', 'last': 'Boyer'}   \n",
       "\n",
       "                          email  \n",
       "0   serena.holman@undefined.net  \n",
       "1    freida.herman@undefined.us  \n",
       "2  valarie.talley@undefined.biz  \n",
       "3    doyle.holcomb@undefined.tv  \n",
       "4    regina.boyer@undefined.biz  "
      ]
     },
     "execution_count": 484,
     "metadata": {},
     "output_type": "execute_result"
    }
   ],
   "source": [
    "df.head()"
   ]
  },
  {
   "cell_type": "markdown",
   "metadata": {},
   "source": [
    "### กรองเงื่อนไขอายุ"
   ]
  },
  {
   "cell_type": "code",
   "execution_count": 8,
   "metadata": {},
   "outputs": [],
   "source": [
    "data_filter_age_match = df[(df[\"age\"] >= 22) & (df[\"age\"] <= 28)]"
   ]
  },
  {
   "cell_type": "code",
   "execution_count": 9,
   "metadata": {},
   "outputs": [],
   "source": [
    "# sort school\n",
    "data_filter_age_match = data_filter_age_match.sort_values('school')"
   ]
  },
  {
   "cell_type": "code",
   "execution_count": 10,
   "metadata": {},
   "outputs": [
    {
     "data": {
      "text/plain": [
       "(45, 5)"
      ]
     },
     "execution_count": 10,
     "metadata": {},
     "output_type": "execute_result"
    }
   ],
   "source": [
    "data_filter_age_match.shape"
   ]
  },
  {
   "cell_type": "code",
   "execution_count": 485,
   "metadata": {},
   "outputs": [
    {
     "data": {
      "text/html": [
       "<div>\n",
       "<style scoped>\n",
       "    .dataframe tbody tr th:only-of-type {\n",
       "        vertical-align: middle;\n",
       "    }\n",
       "\n",
       "    .dataframe tbody tr th {\n",
       "        vertical-align: top;\n",
       "    }\n",
       "\n",
       "    .dataframe thead th {\n",
       "        text-align: right;\n",
       "    }\n",
       "</style>\n",
       "<table border=\"1\" class=\"dataframe\">\n",
       "  <thead>\n",
       "    <tr style=\"text-align: right;\">\n",
       "      <th></th>\n",
       "      <th>id</th>\n",
       "      <th>age</th>\n",
       "      <th>school</th>\n",
       "      <th>name</th>\n",
       "      <th>email</th>\n",
       "    </tr>\n",
       "  </thead>\n",
       "  <tbody>\n",
       "    <tr>\n",
       "      <th>44</th>\n",
       "      <td>44</td>\n",
       "      <td>25</td>\n",
       "      <td>A</td>\n",
       "      <td>{'first': 'Juana', 'last': 'Clay'}</td>\n",
       "      <td>juana.clay@undefined.me</td>\n",
       "    </tr>\n",
       "    <tr>\n",
       "      <th>60</th>\n",
       "      <td>60</td>\n",
       "      <td>25</td>\n",
       "      <td>A</td>\n",
       "      <td>{'first': 'Carolina', 'last': 'Washington'}</td>\n",
       "      <td>carolina.washington@undefined.net</td>\n",
       "    </tr>\n",
       "    <tr>\n",
       "      <th>53</th>\n",
       "      <td>53</td>\n",
       "      <td>23</td>\n",
       "      <td>B</td>\n",
       "      <td>{'first': 'Padilla', 'last': 'Watson'}</td>\n",
       "      <td>padilla.watson@undefined.name</td>\n",
       "    </tr>\n",
       "    <tr>\n",
       "      <th>83</th>\n",
       "      <td>83</td>\n",
       "      <td>22</td>\n",
       "      <td>B</td>\n",
       "      <td>{'first': 'Maryanne', 'last': 'Baker'}</td>\n",
       "      <td>maryanne.baker@undefined.com</td>\n",
       "    </tr>\n",
       "    <tr>\n",
       "      <th>84</th>\n",
       "      <td>84</td>\n",
       "      <td>25</td>\n",
       "      <td>B</td>\n",
       "      <td>{'first': 'Bentley', 'last': 'Spencer'}</td>\n",
       "      <td>bentley.spencer@undefined.net</td>\n",
       "    </tr>\n",
       "  </tbody>\n",
       "</table>\n",
       "</div>"
      ],
      "text/plain": [
       "    id  age school                                         name  \\\n",
       "44  44   25      A           {'first': 'Juana', 'last': 'Clay'}   \n",
       "60  60   25      A  {'first': 'Carolina', 'last': 'Washington'}   \n",
       "53  53   23      B       {'first': 'Padilla', 'last': 'Watson'}   \n",
       "83  83   22      B       {'first': 'Maryanne', 'last': 'Baker'}   \n",
       "84  84   25      B      {'first': 'Bentley', 'last': 'Spencer'}   \n",
       "\n",
       "                                email  \n",
       "44            juana.clay@undefined.me  \n",
       "60  carolina.washington@undefined.net  \n",
       "53      padilla.watson@undefined.name  \n",
       "83       maryanne.baker@undefined.com  \n",
       "84      bentley.spencer@undefined.net  "
      ]
     },
     "execution_count": 485,
     "metadata": {},
     "output_type": "execute_result"
    }
   ],
   "source": [
    "data_filter_age_match.head()"
   ]
  },
  {
   "cell_type": "markdown",
   "metadata": {},
   "source": [
    "### กรองเงื่อนไขอายุไม่เข้าเกณฑ์"
   ]
  },
  {
   "cell_type": "code",
   "execution_count": 12,
   "metadata": {},
   "outputs": [],
   "source": [
    "data_filter_age_not_match = df[(df[\"age\"] < 22) | (df[\"age\"] > 28)]"
   ]
  },
  {
   "cell_type": "code",
   "execution_count": 13,
   "metadata": {},
   "outputs": [
    {
     "data": {
      "text/plain": [
       "(55, 5)"
      ]
     },
     "execution_count": 13,
     "metadata": {},
     "output_type": "execute_result"
    }
   ],
   "source": [
    "data_filter_age_not_match.shape"
   ]
  },
  {
   "cell_type": "markdown",
   "metadata": {},
   "source": [
    "# 4. Process"
   ]
  },
  {
   "cell_type": "code",
   "execution_count": 462,
   "metadata": {},
   "outputs": [],
   "source": [
    "result = {\n",
    "    \"1\": [],\n",
    "    \"2\": [],\n",
    "    \"3\": []\n",
    "}"
   ]
  },
  {
   "cell_type": "code",
   "execution_count": 463,
   "metadata": {},
   "outputs": [],
   "source": [
    "max_room = 3"
   ]
  },
  {
   "cell_type": "code",
   "execution_count": 464,
   "metadata": {},
   "outputs": [],
   "source": [
    "limit = 16"
   ]
  },
  {
   "cell_type": "code",
   "execution_count": 465,
   "metadata": {},
   "outputs": [],
   "source": [
    "# ตัวแปรตรวจสอบกระจายผู้เข้าสอบไปห้องต่าง ๆ\n",
    "check_room = 0"
   ]
  },
  {
   "cell_type": "code",
   "execution_count": 466,
   "metadata": {},
   "outputs": [],
   "source": [
    "for person in data_filter_age_match.to_dict('r'):\n",
    "    for room in range(max_room):\n",
    "        if check_room == room:\n",
    "            #print(\"{} append to {}\".format(check_room,str(room+1)))\n",
    "            result[str(room+1)].append(person)\n",
    "            check_room += 1\n",
    "            if check_room == 3:\n",
    "                # reset \n",
    "                check_room = 0\n",
    "            break"
   ]
  },
  {
   "cell_type": "markdown",
   "metadata": {},
   "source": [
    "### concat rooms"
   ]
  },
  {
   "cell_type": "code",
   "execution_count": 467,
   "metadata": {},
   "outputs": [],
   "source": [
    "room_1 = pd.DataFrame(result[\"1\"])"
   ]
  },
  {
   "cell_type": "code",
   "execution_count": 468,
   "metadata": {},
   "outputs": [],
   "source": [
    "# add label room\n",
    "room_1[\"room\"] = 1"
   ]
  },
  {
   "cell_type": "code",
   "execution_count": 469,
   "metadata": {},
   "outputs": [
    {
     "data": {
      "text/html": [
       "<div>\n",
       "<style scoped>\n",
       "    .dataframe tbody tr th:only-of-type {\n",
       "        vertical-align: middle;\n",
       "    }\n",
       "\n",
       "    .dataframe tbody tr th {\n",
       "        vertical-align: top;\n",
       "    }\n",
       "\n",
       "    .dataframe thead th {\n",
       "        text-align: right;\n",
       "    }\n",
       "</style>\n",
       "<table border=\"1\" class=\"dataframe\">\n",
       "  <thead>\n",
       "    <tr style=\"text-align: right;\">\n",
       "      <th></th>\n",
       "      <th>id</th>\n",
       "      <th>age</th>\n",
       "      <th>school</th>\n",
       "      <th>name</th>\n",
       "      <th>email</th>\n",
       "      <th>room</th>\n",
       "    </tr>\n",
       "  </thead>\n",
       "  <tbody>\n",
       "    <tr>\n",
       "      <th>0</th>\n",
       "      <td>44</td>\n",
       "      <td>25</td>\n",
       "      <td>A</td>\n",
       "      <td>{'first': 'Juana', 'last': 'Clay'}</td>\n",
       "      <td>juana.clay@undefined.me</td>\n",
       "      <td>1</td>\n",
       "    </tr>\n",
       "    <tr>\n",
       "      <th>1</th>\n",
       "      <td>83</td>\n",
       "      <td>22</td>\n",
       "      <td>B</td>\n",
       "      <td>{'first': 'Maryanne', 'last': 'Baker'}</td>\n",
       "      <td>maryanne.baker@undefined.com</td>\n",
       "      <td>1</td>\n",
       "    </tr>\n",
       "    <tr>\n",
       "      <th>2</th>\n",
       "      <td>54</td>\n",
       "      <td>28</td>\n",
       "      <td>B</td>\n",
       "      <td>{'first': 'Faulkner', 'last': 'Kerr'}</td>\n",
       "      <td>faulkner.kerr@undefined.org</td>\n",
       "      <td>1</td>\n",
       "    </tr>\n",
       "    <tr>\n",
       "      <th>3</th>\n",
       "      <td>46</td>\n",
       "      <td>26</td>\n",
       "      <td>D</td>\n",
       "      <td>{'first': 'Gladys', 'last': 'Mejia'}</td>\n",
       "      <td>gladys.mejia@undefined.ca</td>\n",
       "      <td>1</td>\n",
       "    </tr>\n",
       "    <tr>\n",
       "      <th>4</th>\n",
       "      <td>33</td>\n",
       "      <td>25</td>\n",
       "      <td>D</td>\n",
       "      <td>{'first': 'Lucille', 'last': 'Hurley'}</td>\n",
       "      <td>lucille.hurley@undefined.info</td>\n",
       "      <td>1</td>\n",
       "    </tr>\n",
       "  </tbody>\n",
       "</table>\n",
       "</div>"
      ],
      "text/plain": [
       "   id  age school                                    name  \\\n",
       "0  44   25      A      {'first': 'Juana', 'last': 'Clay'}   \n",
       "1  83   22      B  {'first': 'Maryanne', 'last': 'Baker'}   \n",
       "2  54   28      B   {'first': 'Faulkner', 'last': 'Kerr'}   \n",
       "3  46   26      D    {'first': 'Gladys', 'last': 'Mejia'}   \n",
       "4  33   25      D  {'first': 'Lucille', 'last': 'Hurley'}   \n",
       "\n",
       "                           email  room  \n",
       "0        juana.clay@undefined.me     1  \n",
       "1   maryanne.baker@undefined.com     1  \n",
       "2    faulkner.kerr@undefined.org     1  \n",
       "3      gladys.mejia@undefined.ca     1  \n",
       "4  lucille.hurley@undefined.info     1  "
      ]
     },
     "execution_count": 469,
     "metadata": {},
     "output_type": "execute_result"
    }
   ],
   "source": [
    "room_1.head()"
   ]
  },
  {
   "cell_type": "code",
   "execution_count": 470,
   "metadata": {},
   "outputs": [
    {
     "data": {
      "text/plain": [
       "(15, 6)"
      ]
     },
     "execution_count": 470,
     "metadata": {},
     "output_type": "execute_result"
    }
   ],
   "source": [
    "room_1.shape"
   ]
  },
  {
   "cell_type": "code",
   "execution_count": 471,
   "metadata": {},
   "outputs": [],
   "source": [
    "room_2 =pd.DataFrame(result[\"2\"])"
   ]
  },
  {
   "cell_type": "code",
   "execution_count": 472,
   "metadata": {},
   "outputs": [],
   "source": [
    "# add label room\n",
    "room_2[\"room\"] = 2"
   ]
  },
  {
   "cell_type": "code",
   "execution_count": 473,
   "metadata": {},
   "outputs": [
    {
     "data": {
      "text/html": [
       "<div>\n",
       "<style scoped>\n",
       "    .dataframe tbody tr th:only-of-type {\n",
       "        vertical-align: middle;\n",
       "    }\n",
       "\n",
       "    .dataframe tbody tr th {\n",
       "        vertical-align: top;\n",
       "    }\n",
       "\n",
       "    .dataframe thead th {\n",
       "        text-align: right;\n",
       "    }\n",
       "</style>\n",
       "<table border=\"1\" class=\"dataframe\">\n",
       "  <thead>\n",
       "    <tr style=\"text-align: right;\">\n",
       "      <th></th>\n",
       "      <th>id</th>\n",
       "      <th>age</th>\n",
       "      <th>school</th>\n",
       "      <th>name</th>\n",
       "      <th>email</th>\n",
       "      <th>room</th>\n",
       "    </tr>\n",
       "  </thead>\n",
       "  <tbody>\n",
       "    <tr>\n",
       "      <th>0</th>\n",
       "      <td>60</td>\n",
       "      <td>25</td>\n",
       "      <td>A</td>\n",
       "      <td>{'first': 'Carolina', 'last': 'Washington'}</td>\n",
       "      <td>carolina.washington@undefined.net</td>\n",
       "      <td>2</td>\n",
       "    </tr>\n",
       "    <tr>\n",
       "      <th>1</th>\n",
       "      <td>84</td>\n",
       "      <td>25</td>\n",
       "      <td>B</td>\n",
       "      <td>{'first': 'Bentley', 'last': 'Spencer'}</td>\n",
       "      <td>bentley.spencer@undefined.net</td>\n",
       "      <td>2</td>\n",
       "    </tr>\n",
       "    <tr>\n",
       "      <th>2</th>\n",
       "      <td>58</td>\n",
       "      <td>27</td>\n",
       "      <td>B</td>\n",
       "      <td>{'first': 'Sawyer', 'last': 'Grimes'}</td>\n",
       "      <td>sawyer.grimes@undefined.ca</td>\n",
       "      <td>2</td>\n",
       "    </tr>\n",
       "    <tr>\n",
       "      <th>3</th>\n",
       "      <td>39</td>\n",
       "      <td>23</td>\n",
       "      <td>D</td>\n",
       "      <td>{'first': 'Jan', 'last': 'Walsh'}</td>\n",
       "      <td>jan.walsh@undefined.tv</td>\n",
       "      <td>2</td>\n",
       "    </tr>\n",
       "    <tr>\n",
       "      <th>4</th>\n",
       "      <td>80</td>\n",
       "      <td>28</td>\n",
       "      <td>E</td>\n",
       "      <td>{'first': 'Compton', 'last': 'Flynn'}</td>\n",
       "      <td>compton.flynn@undefined.me</td>\n",
       "      <td>2</td>\n",
       "    </tr>\n",
       "  </tbody>\n",
       "</table>\n",
       "</div>"
      ],
      "text/plain": [
       "   id  age school                                         name  \\\n",
       "0  60   25      A  {'first': 'Carolina', 'last': 'Washington'}   \n",
       "1  84   25      B      {'first': 'Bentley', 'last': 'Spencer'}   \n",
       "2  58   27      B        {'first': 'Sawyer', 'last': 'Grimes'}   \n",
       "3  39   23      D            {'first': 'Jan', 'last': 'Walsh'}   \n",
       "4  80   28      E        {'first': 'Compton', 'last': 'Flynn'}   \n",
       "\n",
       "                               email  room  \n",
       "0  carolina.washington@undefined.net     2  \n",
       "1      bentley.spencer@undefined.net     2  \n",
       "2         sawyer.grimes@undefined.ca     2  \n",
       "3             jan.walsh@undefined.tv     2  \n",
       "4         compton.flynn@undefined.me     2  "
      ]
     },
     "execution_count": 473,
     "metadata": {},
     "output_type": "execute_result"
    }
   ],
   "source": [
    "room_2.head()"
   ]
  },
  {
   "cell_type": "code",
   "execution_count": 474,
   "metadata": {},
   "outputs": [
    {
     "data": {
      "text/plain": [
       "(15, 6)"
      ]
     },
     "execution_count": 474,
     "metadata": {},
     "output_type": "execute_result"
    }
   ],
   "source": [
    "room_2.shape"
   ]
  },
  {
   "cell_type": "code",
   "execution_count": 475,
   "metadata": {},
   "outputs": [],
   "source": [
    "room_3 = pd.DataFrame(result[\"3\"])"
   ]
  },
  {
   "cell_type": "code",
   "execution_count": 476,
   "metadata": {},
   "outputs": [],
   "source": [
    "# add label room\n",
    "room_3[\"room\"] = 3"
   ]
  },
  {
   "cell_type": "code",
   "execution_count": 477,
   "metadata": {},
   "outputs": [
    {
     "data": {
      "text/html": [
       "<div>\n",
       "<style scoped>\n",
       "    .dataframe tbody tr th:only-of-type {\n",
       "        vertical-align: middle;\n",
       "    }\n",
       "\n",
       "    .dataframe tbody tr th {\n",
       "        vertical-align: top;\n",
       "    }\n",
       "\n",
       "    .dataframe thead th {\n",
       "        text-align: right;\n",
       "    }\n",
       "</style>\n",
       "<table border=\"1\" class=\"dataframe\">\n",
       "  <thead>\n",
       "    <tr style=\"text-align: right;\">\n",
       "      <th></th>\n",
       "      <th>id</th>\n",
       "      <th>age</th>\n",
       "      <th>school</th>\n",
       "      <th>name</th>\n",
       "      <th>email</th>\n",
       "      <th>room</th>\n",
       "    </tr>\n",
       "  </thead>\n",
       "  <tbody>\n",
       "    <tr>\n",
       "      <th>0</th>\n",
       "      <td>53</td>\n",
       "      <td>23</td>\n",
       "      <td>B</td>\n",
       "      <td>{'first': 'Padilla', 'last': 'Watson'}</td>\n",
       "      <td>padilla.watson@undefined.name</td>\n",
       "      <td>3</td>\n",
       "    </tr>\n",
       "    <tr>\n",
       "      <th>1</th>\n",
       "      <td>68</td>\n",
       "      <td>28</td>\n",
       "      <td>B</td>\n",
       "      <td>{'first': 'Estella', 'last': 'Jimenez'}</td>\n",
       "      <td>estella.jimenez@undefined.me</td>\n",
       "      <td>3</td>\n",
       "    </tr>\n",
       "    <tr>\n",
       "      <th>2</th>\n",
       "      <td>57</td>\n",
       "      <td>22</td>\n",
       "      <td>D</td>\n",
       "      <td>{'first': 'England', 'last': 'Gillespie'}</td>\n",
       "      <td>england.gillespie@undefined.info</td>\n",
       "      <td>3</td>\n",
       "    </tr>\n",
       "    <tr>\n",
       "      <th>3</th>\n",
       "      <td>24</td>\n",
       "      <td>28</td>\n",
       "      <td>D</td>\n",
       "      <td>{'first': 'Abby', 'last': 'Whitfield'}</td>\n",
       "      <td>abby.whitfield@undefined.net</td>\n",
       "      <td>3</td>\n",
       "    </tr>\n",
       "    <tr>\n",
       "      <th>4</th>\n",
       "      <td>36</td>\n",
       "      <td>24</td>\n",
       "      <td>E</td>\n",
       "      <td>{'first': 'Morton', 'last': 'Emerson'}</td>\n",
       "      <td>morton.emerson@undefined.net</td>\n",
       "      <td>3</td>\n",
       "    </tr>\n",
       "  </tbody>\n",
       "</table>\n",
       "</div>"
      ],
      "text/plain": [
       "   id  age school                                       name  \\\n",
       "0  53   23      B     {'first': 'Padilla', 'last': 'Watson'}   \n",
       "1  68   28      B    {'first': 'Estella', 'last': 'Jimenez'}   \n",
       "2  57   22      D  {'first': 'England', 'last': 'Gillespie'}   \n",
       "3  24   28      D     {'first': 'Abby', 'last': 'Whitfield'}   \n",
       "4  36   24      E     {'first': 'Morton', 'last': 'Emerson'}   \n",
       "\n",
       "                              email  room  \n",
       "0     padilla.watson@undefined.name     3  \n",
       "1      estella.jimenez@undefined.me     3  \n",
       "2  england.gillespie@undefined.info     3  \n",
       "3      abby.whitfield@undefined.net     3  \n",
       "4      morton.emerson@undefined.net     3  "
      ]
     },
     "execution_count": 477,
     "metadata": {},
     "output_type": "execute_result"
    }
   ],
   "source": [
    "room_3.head()"
   ]
  },
  {
   "cell_type": "code",
   "execution_count": 478,
   "metadata": {},
   "outputs": [
    {
     "data": {
      "text/plain": [
       "(15, 6)"
      ]
     },
     "execution_count": 478,
     "metadata": {},
     "output_type": "execute_result"
    }
   ],
   "source": [
    "room_3.shape"
   ]
  },
  {
   "cell_type": "code",
   "execution_count": 479,
   "metadata": {},
   "outputs": [],
   "source": [
    "rooms_df = pd.DataFrame(room_1.to_dict('r') + room_2.to_dict('r') + room_3.to_dict('r'))"
   ]
  },
  {
   "cell_type": "code",
   "execution_count": 480,
   "metadata": {},
   "outputs": [
    {
     "data": {
      "text/plain": [
       "(45, 6)"
      ]
     },
     "execution_count": 480,
     "metadata": {},
     "output_type": "execute_result"
    }
   ],
   "source": [
    "rooms_df.shape"
   ]
  },
  {
   "cell_type": "code",
   "execution_count": 481,
   "metadata": {},
   "outputs": [
    {
     "data": {
      "text/html": [
       "<div>\n",
       "<style scoped>\n",
       "    .dataframe tbody tr th:only-of-type {\n",
       "        vertical-align: middle;\n",
       "    }\n",
       "\n",
       "    .dataframe tbody tr th {\n",
       "        vertical-align: top;\n",
       "    }\n",
       "\n",
       "    .dataframe thead th {\n",
       "        text-align: right;\n",
       "    }\n",
       "</style>\n",
       "<table border=\"1\" class=\"dataframe\">\n",
       "  <thead>\n",
       "    <tr style=\"text-align: right;\">\n",
       "      <th></th>\n",
       "      <th>id</th>\n",
       "      <th>age</th>\n",
       "      <th>school</th>\n",
       "      <th>name</th>\n",
       "      <th>email</th>\n",
       "      <th>room</th>\n",
       "    </tr>\n",
       "  </thead>\n",
       "  <tbody>\n",
       "    <tr>\n",
       "      <th>0</th>\n",
       "      <td>44</td>\n",
       "      <td>25</td>\n",
       "      <td>A</td>\n",
       "      <td>{'first': 'Juana', 'last': 'Clay'}</td>\n",
       "      <td>juana.clay@undefined.me</td>\n",
       "      <td>1</td>\n",
       "    </tr>\n",
       "    <tr>\n",
       "      <th>1</th>\n",
       "      <td>83</td>\n",
       "      <td>22</td>\n",
       "      <td>B</td>\n",
       "      <td>{'first': 'Maryanne', 'last': 'Baker'}</td>\n",
       "      <td>maryanne.baker@undefined.com</td>\n",
       "      <td>1</td>\n",
       "    </tr>\n",
       "    <tr>\n",
       "      <th>2</th>\n",
       "      <td>54</td>\n",
       "      <td>28</td>\n",
       "      <td>B</td>\n",
       "      <td>{'first': 'Faulkner', 'last': 'Kerr'}</td>\n",
       "      <td>faulkner.kerr@undefined.org</td>\n",
       "      <td>1</td>\n",
       "    </tr>\n",
       "    <tr>\n",
       "      <th>3</th>\n",
       "      <td>46</td>\n",
       "      <td>26</td>\n",
       "      <td>D</td>\n",
       "      <td>{'first': 'Gladys', 'last': 'Mejia'}</td>\n",
       "      <td>gladys.mejia@undefined.ca</td>\n",
       "      <td>1</td>\n",
       "    </tr>\n",
       "    <tr>\n",
       "      <th>4</th>\n",
       "      <td>33</td>\n",
       "      <td>25</td>\n",
       "      <td>D</td>\n",
       "      <td>{'first': 'Lucille', 'last': 'Hurley'}</td>\n",
       "      <td>lucille.hurley@undefined.info</td>\n",
       "      <td>1</td>\n",
       "    </tr>\n",
       "  </tbody>\n",
       "</table>\n",
       "</div>"
      ],
      "text/plain": [
       "   id  age school                                    name  \\\n",
       "0  44   25      A      {'first': 'Juana', 'last': 'Clay'}   \n",
       "1  83   22      B  {'first': 'Maryanne', 'last': 'Baker'}   \n",
       "2  54   28      B   {'first': 'Faulkner', 'last': 'Kerr'}   \n",
       "3  46   26      D    {'first': 'Gladys', 'last': 'Mejia'}   \n",
       "4  33   25      D  {'first': 'Lucille', 'last': 'Hurley'}   \n",
       "\n",
       "                           email  room  \n",
       "0        juana.clay@undefined.me     1  \n",
       "1   maryanne.baker@undefined.com     1  \n",
       "2    faulkner.kerr@undefined.org     1  \n",
       "3      gladys.mejia@undefined.ca     1  \n",
       "4  lucille.hurley@undefined.info     1  "
      ]
     },
     "execution_count": 481,
     "metadata": {},
     "output_type": "execute_result"
    }
   ],
   "source": [
    "rooms_df.head()"
   ]
  },
  {
   "cell_type": "markdown",
   "metadata": {},
   "source": [
    "### Answer 1"
   ]
  },
  {
   "cell_type": "code",
   "execution_count": 497,
   "metadata": {},
   "outputs": [
    {
     "data": {
      "text/plain": [
       "['C', 8]"
      ]
     },
     "execution_count": 497,
     "metadata": {},
     "output_type": "execute_result"
    }
   ],
   "source": [
    "# โรงเรียนที่ไม่มีผู้สมัครได้เข้าสอบเลย มีผู้สมัครสอบมากที่สุดกี่คน *\n",
    "match_unique = set(data_filter_age_match[\"school\"].to_list())\n",
    "not_match_unique = set(data_filter_age_not_match[\"school\"].to_list())\n",
    "answer_1 = [sc for sc in not_match_unique if sc not in match_unique] \n",
    "answer_1 = [ answer_1[0] ,  df[df[\"school\"] == answer_1[0]][\"id\"].count()]\n",
    "answer_1"
   ]
  },
  {
   "cell_type": "markdown",
   "metadata": {},
   "source": [
    "### Answer 2"
   ]
  },
  {
   "cell_type": "code",
   "execution_count": 483,
   "metadata": {},
   "outputs": [
    {
     "data": {
      "text/plain": [
       "room  school\n",
       "1     G         3\n",
       "Name: school, dtype: int64"
      ]
     },
     "execution_count": 483,
     "metadata": {},
     "output_type": "execute_result"
    }
   ],
   "source": [
    "# จำนวนผู้ได้เข้าสอบมากที่สุดที่ได้นั่งอยู่ห้องเดียวกัน และมาจากโรงเรียนเดียวกัน *\n",
    "rooms = rooms_df.groupby([\"room\",\"school\"])[\"school\"].count()\n",
    "rooms[rooms == rooms.max()]"
   ]
  },
  {
   "cell_type": "markdown",
   "metadata": {},
   "source": [
    "### Answer 3"
   ]
  },
  {
   "cell_type": "code",
   "execution_count": 283,
   "metadata": {},
   "outputs": [
    {
     "data": {
      "text/html": [
       "<div>\n",
       "<style scoped>\n",
       "    .dataframe tbody tr th:only-of-type {\n",
       "        vertical-align: middle;\n",
       "    }\n",
       "\n",
       "    .dataframe tbody tr th {\n",
       "        vertical-align: top;\n",
       "    }\n",
       "\n",
       "    .dataframe thead th {\n",
       "        text-align: right;\n",
       "    }\n",
       "</style>\n",
       "<table border=\"1\" class=\"dataframe\">\n",
       "  <thead>\n",
       "    <tr style=\"text-align: right;\">\n",
       "      <th></th>\n",
       "      <th>id</th>\n",
       "      <th>age</th>\n",
       "      <th>school</th>\n",
       "      <th>name</th>\n",
       "      <th>email</th>\n",
       "    </tr>\n",
       "  </thead>\n",
       "  <tbody>\n",
       "    <tr>\n",
       "      <th>61</th>\n",
       "      <td>61</td>\n",
       "      <td>25</td>\n",
       "      <td>L</td>\n",
       "      <td>{'first': 'Cole', 'last': 'Maxwell'}</td>\n",
       "      <td>cole.maxwell@undefined.us</td>\n",
       "    </tr>\n",
       "  </tbody>\n",
       "</table>\n",
       "</div>"
      ],
      "text/plain": [
       "    id  age school                                  name  \\\n",
       "61  61   25      L  {'first': 'Cole', 'last': 'Maxwell'}   \n",
       "\n",
       "                        email  \n",
       "61  cole.maxwell@undefined.us  "
      ]
     },
     "execution_count": 283,
     "metadata": {},
     "output_type": "execute_result"
    }
   ],
   "source": [
    "# รายชื่อผู้ได้เข้าสอบที่น้อยที่สุด ที่มาจากโรงเรียนเดียวกัน *\n",
    "# 1 คน ต่อ 1 บรรทัด\n",
    "grouping_person_by_school = data_filter_age_match.groupby('school')[\"school\"].count()\n",
    "school = grouping_person_by_school[grouping_person_by_school == grouping_person_by_school.min()].index[0]\n",
    "get_min_person  = data_filter_age_match[data_filter_age_match[\"school\"] == school]\n",
    "get_min_person"
   ]
  },
  {
   "cell_type": "code",
   "execution_count": null,
   "metadata": {},
   "outputs": [],
   "source": []
  }
 ],
 "metadata": {
  "kernelspec": {
   "display_name": "Python 3",
   "language": "python",
   "name": "python3"
  },
  "language_info": {
   "codemirror_mode": {
    "name": "ipython",
    "version": 3
   },
   "file_extension": ".py",
   "mimetype": "text/x-python",
   "name": "python",
   "nbconvert_exporter": "python",
   "pygments_lexer": "ipython3",
   "version": "3.7.6"
  }
 },
 "nbformat": 4,
 "nbformat_minor": 4
}
